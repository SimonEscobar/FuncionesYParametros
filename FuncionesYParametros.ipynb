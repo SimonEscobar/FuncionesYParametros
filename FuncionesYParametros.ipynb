{
  "nbformat": 4,
  "nbformat_minor": 0,
  "metadata": {
    "colab": {
      "provenance": [],
      "authorship_tag": "ABX9TyPH9RPdqqtekPumLnbYfD2g",
      "include_colab_link": true
    },
    "kernelspec": {
      "name": "python3",
      "display_name": "Python 3"
    },
    "language_info": {
      "name": "python"
    }
  },
  "cells": [
    {
      "cell_type": "markdown",
      "metadata": {
        "id": "view-in-github",
        "colab_type": "text"
      },
      "source": [
        "<a href=\"https://colab.research.google.com/github/SimonEscobar/FuncionesYParametros/blob/main/FuncionesYParametros.ipynb\" target=\"_parent\"><img src=\"https://colab.research.google.com/assets/colab-badge.svg\" alt=\"Open In Colab\"/></a>"
      ]
    },
    {
      "cell_type": "code",
      "execution_count": null,
      "metadata": {
        "id": "mf9YbkS8zlVH"
      },
      "outputs": [],
      "source": [
        "import math\n",
        "\n",
        "# Definimos la función\n",
        "def calcular_area_circulo(radio):\n",
        "    area = math.pi * radio ** 2  # Fórmula para el área de un círculo\n",
        "    return area\n",
        "\n",
        "# Llamamos a la función con un valor para el radio\n",
        "radio = 5\n",
        "area = calcular_area_circulo(radio)\n",
        "print(f\"El área del círculo con radio {radio} es: {area}\")\n",
        "\n",
        "Definimos la función calcular_area_circulo: La función toma un parámetro radio y usa la fórmula para calcular el área de un círculo (π * radio^2).\n",
        "Llamamos a la función: En este caso, pasamos el valor 5 como argumento para radio y la función devuelve el área correspondiente.\n",
        "Imprimimos el resultado con print()."
      ]
    }
  ]
}